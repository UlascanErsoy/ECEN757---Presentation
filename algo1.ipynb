{
 "cells": [
  {
   "cell_type": "markdown",
   "metadata": {},
   "source": [
    "# Projection On Capped Simplex"
   ]
  },
  {
   "cell_type": "code",
   "execution_count": 1,
   "metadata": {},
   "outputs": [],
   "source": [
    "import numpy as np\n",
    "\n",
    "N = 3\n",
    "C = 1\n",
    "w_n = 0.1\n",
    "eps = 1e-32"
   ]
  },
  {
   "cell_type": "code",
   "execution_count": 3,
   "metadata": {},
   "outputs": [
    {
     "name": "stdout",
     "output_type": "stream",
     "text": [
      "4.666666666666667 [0. 0. 0.] set() {0, 1, 2} set()\n",
      "6.0 [ 1.66666667  0.66666667 -1.33333333] set() {0, 1} {2}\n",
      "4.0 [1. 0. 0.] {0} {1, 2} set()\n",
      "6.0 [ 1.  1. -1.] {0} {1} {2}\n"
     ]
    },
    {
     "data": {
      "text/plain": [
       "1.0"
      ]
     },
     "execution_count": 3,
     "metadata": {},
     "output_type": "execute_result"
    }
   ],
   "source": [
    "Z = np.random.randn(N) * w_n #np.array([1.2,0.0,0.0,0.0,0.0,.0,.0,.0,.0,.0])\n",
    "Z = np.array([4, 3,1])\n",
    "Z[::-1].sort()\n",
    "y = np.zeros(N)\n",
    "M1, M2, M3 = set(), set(range(N)), set()\n",
    "\n",
    "def epoch(M1: set, M2: set, M3: set, second_pass=False):\n",
    "\n",
    "    S = {None}\n",
    "    while S:\n",
    "        if not M2:\n",
    "            break\n",
    "        rho = 2 * (len(M1) - C + sum([Z[idx] for idx in M2])) / len(M2)\n",
    "        print(rho, y ,M1, M2, M3)\n",
    "        for n in range(N):\n",
    "            if n in M1:\n",
    "                y[n] = 1\n",
    "            elif n in M2:\n",
    "                y[n] = Z[n] - rho / 2\n",
    "            elif n in M3:\n",
    "                y[n] = 0\n",
    "\n",
    "        S = set([idx for idx in M2 if y[idx] < 0])\n",
    "        M2.difference_update(S)\n",
    "        M3.update(S)\n",
    "\n",
    "    if y[0] >= 1 and not second_pass:\n",
    "        M1, M2, M3 = epoch({0},set(range(1,N)),set(), True)\n",
    "\n",
    "    return M1, M2, M3\n",
    "\n",
    "M1, M2, M3 = epoch(M1, M2, M3)\n",
    "\n",
    "sum(y)\n"
   ]
  }
 ],
 "metadata": {
  "kernelspec": {
   "display_name": "Python 3",
   "language": "python",
   "name": "python3"
  },
  "language_info": {
   "codemirror_mode": {
    "name": "ipython",
    "version": 3
   },
   "file_extension": ".py",
   "mimetype": "text/x-python",
   "name": "python",
   "nbconvert_exporter": "python",
   "pygments_lexer": "ipython3",
   "version": "3.10.12"
  }
 },
 "nbformat": 4,
 "nbformat_minor": 2
}
